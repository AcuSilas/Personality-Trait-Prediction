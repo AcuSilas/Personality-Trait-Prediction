{
  "nbformat": 4,
  "nbformat_minor": 0,
  "metadata": {
    "colab": {
      "provenance": [],
      "authorship_tag": "ABX9TyMQiUhmGKuSXCBY2cOpbizE",
      "include_colab_link": true
    },
    "kernelspec": {
      "name": "python3",
      "display_name": "Python 3"
    },
    "language_info": {
      "name": "python"
    }
  },
  "cells": [
    {
      "cell_type": "markdown",
      "metadata": {
        "id": "view-in-github",
        "colab_type": "text"
      },
      "source": [
        "<a href=\"https://colab.research.google.com/github/AcuSilas/Personality-Trait-Prediction/blob/main/Personality_Trait_Prediction_from_Essays.ipynb\" target=\"_parent\"><img src=\"https://colab.research.google.com/assets/colab-badge.svg\" alt=\"Open In Colab\"/></a>"
      ]
    },
    {
      "cell_type": "markdown",
      "source": [
        "### Full NLP project steps:\n",
        "\n",
        "- Data Loading and Exploration\n",
        "\n",
        "- Data Preprocessing\n",
        "\n",
        "- Exploratory Data Analysis (EDA)\n",
        "\n",
        "- Feature Engineering\n",
        "\n",
        "- Model Building\n",
        "\n",
        "- Model Evaluation\n",
        "\n",
        "- Conclusion and Next Steps"
      ],
      "metadata": {
        "id": "BJXtpoRR6VAz"
      }
    },
    {
      "cell_type": "code",
      "execution_count": 1,
      "metadata": {
        "colab": {
          "base_uri": "https://localhost:8080/"
        },
        "id": "xaPV9PWK5uNb",
        "outputId": "5f5c94a0-27bf-4173-9614-9d3ef17f2abd"
      },
      "outputs": [
        {
          "output_type": "stream",
          "name": "stdout",
          "text": [
            "<class 'pandas.core.frame.DataFrame'>\n",
            "RangeIndex: 94 entries, 0 to 93\n",
            "Data columns (total 5 columns):\n",
            " #   Column  Non-Null Count  Dtype \n",
            "---  ------  --------------  ----- \n",
            " 0   I/E     94 non-null     object\n",
            " 1   N/S     93 non-null     object\n",
            " 2   T/F     94 non-null     object\n",
            " 3   J/P     93 non-null     object\n",
            " 4   Essay   94 non-null     object\n",
            "dtypes: object(5)\n",
            "memory usage: 3.8+ KB\n"
          ]
        },
        {
          "output_type": "execute_result",
          "data": {
            "text/plain": [
              "(  I/E N/S T/F J/P                                              Essay\n",
              " 0   I   S   T   J  My first 4 months at the EDSA have been filled...\n",
              " 1   I   N   F   J  I joined the academy being at a crossroads of ...\n",
              " 2   E   N   F   J  so far my experience has been positive and i c...\n",
              " 3   I   N   F   J  I have been very fortunate to have the opportu...\n",
              " 4   I   N   T   J  Looking back to when one got to the academy an...,\n",
              " None)"
            ]
          },
          "metadata": {},
          "execution_count": 1
        }
      ],
      "source": [
        "# loading and exploring the dataset to understand its structure and content\n",
        "\n",
        "import pandas as pd\n",
        "\n",
        "# Load the dataset\n",
        "file_path = '/content/Essay_data.csv'\n",
        "\n",
        "data = pd.read_csv(file_path)\n",
        "\n",
        "# Display the first few rows of the dataset\n",
        "data.head(), data.info()"
      ]
    },
    {
      "cell_type": "markdown",
      "source": [
        "The dataset contains 94 entries with the following columns:\n",
        "\n",
        "I/E: Indicates Introversion (I) or Extraversion (E)\n",
        "\n",
        "N/S: Indicates Intuition (N) or Sensing (S)\n",
        "\n",
        "T/F: Indicates Thinking (T) or Feeling (F)\n",
        "\n",
        "J/P: Indicates Judging (J) or Perceiving (P)\n",
        "\n",
        "Essay: The essay text\n",
        "\n",
        "A couple of columns have one missing value each (N/S and J/P)."
      ],
      "metadata": {
        "id": "jSUKPynW7tvz"
      }
    },
    {
      "cell_type": "code",
      "source": [
        "# Count the occurrences of 'N' and 'S'\n",
        "num_intuitive = data['N/S'].value_counts().get('N', 0)\n",
        "num_sensing = data['N/S'].value_counts().get('S', 0)\n",
        "\n",
        "# Calculate the ratio\n",
        "if num_sensing != 0:\n",
        "    ratio = num_intuitive / num_sensing\n",
        "else:\n",
        "    ratio = float('inf')  # If there are no sensing students, ratio is infinite\n",
        "\n",
        "print(f\"Ratio of Intuitive (N) to Sensing (S) students: {ratio:.2f}\")"
      ],
      "metadata": {
        "colab": {
          "base_uri": "https://localhost:8080/"
        },
        "id": "RAZz2oud7zDB",
        "outputId": "b71d081e-825c-4f2b-f5c5-f772ab08dc1d"
      },
      "execution_count": 3,
      "outputs": [
        {
          "output_type": "stream",
          "name": "stdout",
          "text": [
            "Ratio of Intuitive (N) to Sensing (S) students: 2.58\n"
          ]
        }
      ]
    },
    {
      "cell_type": "markdown",
      "source": [
        "Data Cleaning\n",
        "\n",
        "We'll handle missing values first."
      ],
      "metadata": {
        "id": "sFoNKP0x8dzb"
      }
    },
    {
      "cell_type": "code",
      "source": [
        "# Handle missing values\n",
        "data = data.dropna()\n",
        "\n",
        "# Verify there are no more missing values\n",
        "data.info()"
      ],
      "metadata": {
        "colab": {
          "base_uri": "https://localhost:8080/"
        },
        "id": "Dp6fhUhQ8g48",
        "outputId": "4827250d-21fd-404e-8a1f-b6c38aa17245"
      },
      "execution_count": 4,
      "outputs": [
        {
          "output_type": "stream",
          "name": "stdout",
          "text": [
            "<class 'pandas.core.frame.DataFrame'>\n",
            "Index: 93 entries, 0 to 93\n",
            "Data columns (total 5 columns):\n",
            " #   Column  Non-Null Count  Dtype \n",
            "---  ------  --------------  ----- \n",
            " 0   I/E     93 non-null     object\n",
            " 1   N/S     93 non-null     object\n",
            " 2   T/F     93 non-null     object\n",
            " 3   J/P     93 non-null     object\n",
            " 4   Essay   93 non-null     object\n",
            "dtypes: object(5)\n",
            "memory usage: 4.4+ KB\n"
          ]
        }
      ]
    },
    {
      "cell_type": "markdown",
      "source": [
        "###Text Preprocessing\n",
        "\n",
        "We'll clean the essay text by:\n",
        "\n",
        "- Removing punctuation\n",
        "\n",
        "- Converting text to lowercase\n",
        "\n",
        "- Removing stop words\n",
        "\n",
        "- Lemmatization\n",
        "\n",
        "We'll use NLTK for this purpose."
      ],
      "metadata": {
        "id": "6-g7B2zK8qTr"
      }
    },
    {
      "cell_type": "code",
      "source": [
        "import nltk\n",
        "from nltk.corpus import stopwords\n",
        "from nltk.tokenize import word_tokenize\n",
        "from nltk.stem import WordNetLemmatizer\n",
        "import string\n",
        "\n",
        "# Download required NLTK data\n",
        "nltk.download('punkt')\n",
        "nltk.download('stopwords')\n",
        "nltk.download('wordnet')\n",
        "\n",
        "# Initialize lemmatizer and stop words\n",
        "lemmatizer = WordNetLemmatizer()\n",
        "stop_words = set(stopwords.words('english'))\n",
        "\n",
        "# Define text preprocessing function\n",
        "def preprocess_text(text):\n",
        "    # Remove punctuation\n",
        "    text = text.translate(str.maketrans('', '', string.punctuation))\n",
        "    # Convert to lowercase\n",
        "    text = text.lower()\n",
        "    # Tokenize\n",
        "    tokens = word_tokenize(text)\n",
        "    # Remove stop words and lemmatize\n",
        "    tokens = [lemmatizer.lemmatize(word) for word in tokens if word not in stop_words]\n",
        "    return ' '.join(tokens)\n",
        "\n",
        "# Apply preprocessing to the Essay column\n",
        "data['Essay'] = data['Essay'].apply(preprocess_text)\n",
        "\n",
        "# Display the first few rows of the preprocessed data\n",
        "data.head()"
      ],
      "metadata": {
        "colab": {
          "base_uri": "https://localhost:8080/",
          "height": 297
        },
        "id": "EDhwV41_8-eg",
        "outputId": "7dabdcab-9857-4fee-89b6-a65cdbc8d09e"
      },
      "execution_count": 5,
      "outputs": [
        {
          "output_type": "stream",
          "name": "stderr",
          "text": [
            "[nltk_data] Downloading package punkt to /root/nltk_data...\n",
            "[nltk_data]   Unzipping tokenizers/punkt.zip.\n",
            "[nltk_data] Downloading package stopwords to /root/nltk_data...\n",
            "[nltk_data]   Unzipping corpora/stopwords.zip.\n",
            "[nltk_data] Downloading package wordnet to /root/nltk_data...\n"
          ]
        },
        {
          "output_type": "execute_result",
          "data": {
            "text/plain": [
              "  I/E N/S T/F J/P                                              Essay\n",
              "0   I   S   T   J  first 4 month edsa filled many new experience ...\n",
              "1   I   N   F   J  joined academy crossroad sort life academy off...\n",
              "2   E   N   F   J  far experience positive definitely see value c...\n",
              "3   I   N   F   J  fortunate opportunity join academy year sure c...\n",
              "4   I   N   T   J  looking back one got academy right confidently..."
            ],
            "text/html": [
              "\n",
              "  <div id=\"df-c72942bd-b466-4d25-82b8-604a4be7580b\" class=\"colab-df-container\">\n",
              "    <div>\n",
              "<style scoped>\n",
              "    .dataframe tbody tr th:only-of-type {\n",
              "        vertical-align: middle;\n",
              "    }\n",
              "\n",
              "    .dataframe tbody tr th {\n",
              "        vertical-align: top;\n",
              "    }\n",
              "\n",
              "    .dataframe thead th {\n",
              "        text-align: right;\n",
              "    }\n",
              "</style>\n",
              "<table border=\"1\" class=\"dataframe\">\n",
              "  <thead>\n",
              "    <tr style=\"text-align: right;\">\n",
              "      <th></th>\n",
              "      <th>I/E</th>\n",
              "      <th>N/S</th>\n",
              "      <th>T/F</th>\n",
              "      <th>J/P</th>\n",
              "      <th>Essay</th>\n",
              "    </tr>\n",
              "  </thead>\n",
              "  <tbody>\n",
              "    <tr>\n",
              "      <th>0</th>\n",
              "      <td>I</td>\n",
              "      <td>S</td>\n",
              "      <td>T</td>\n",
              "      <td>J</td>\n",
              "      <td>first 4 month edsa filled many new experience ...</td>\n",
              "    </tr>\n",
              "    <tr>\n",
              "      <th>1</th>\n",
              "      <td>I</td>\n",
              "      <td>N</td>\n",
              "      <td>F</td>\n",
              "      <td>J</td>\n",
              "      <td>joined academy crossroad sort life academy off...</td>\n",
              "    </tr>\n",
              "    <tr>\n",
              "      <th>2</th>\n",
              "      <td>E</td>\n",
              "      <td>N</td>\n",
              "      <td>F</td>\n",
              "      <td>J</td>\n",
              "      <td>far experience positive definitely see value c...</td>\n",
              "    </tr>\n",
              "    <tr>\n",
              "      <th>3</th>\n",
              "      <td>I</td>\n",
              "      <td>N</td>\n",
              "      <td>F</td>\n",
              "      <td>J</td>\n",
              "      <td>fortunate opportunity join academy year sure c...</td>\n",
              "    </tr>\n",
              "    <tr>\n",
              "      <th>4</th>\n",
              "      <td>I</td>\n",
              "      <td>N</td>\n",
              "      <td>T</td>\n",
              "      <td>J</td>\n",
              "      <td>looking back one got academy right confidently...</td>\n",
              "    </tr>\n",
              "  </tbody>\n",
              "</table>\n",
              "</div>\n",
              "    <div class=\"colab-df-buttons\">\n",
              "\n",
              "  <div class=\"colab-df-container\">\n",
              "    <button class=\"colab-df-convert\" onclick=\"convertToInteractive('df-c72942bd-b466-4d25-82b8-604a4be7580b')\"\n",
              "            title=\"Convert this dataframe to an interactive table.\"\n",
              "            style=\"display:none;\">\n",
              "\n",
              "  <svg xmlns=\"http://www.w3.org/2000/svg\" height=\"24px\" viewBox=\"0 -960 960 960\">\n",
              "    <path d=\"M120-120v-720h720v720H120Zm60-500h600v-160H180v160Zm220 220h160v-160H400v160Zm0 220h160v-160H400v160ZM180-400h160v-160H180v160Zm440 0h160v-160H620v160ZM180-180h160v-160H180v160Zm440 0h160v-160H620v160Z\"/>\n",
              "  </svg>\n",
              "    </button>\n",
              "\n",
              "  <style>\n",
              "    .colab-df-container {\n",
              "      display:flex;\n",
              "      gap: 12px;\n",
              "    }\n",
              "\n",
              "    .colab-df-convert {\n",
              "      background-color: #E8F0FE;\n",
              "      border: none;\n",
              "      border-radius: 50%;\n",
              "      cursor: pointer;\n",
              "      display: none;\n",
              "      fill: #1967D2;\n",
              "      height: 32px;\n",
              "      padding: 0 0 0 0;\n",
              "      width: 32px;\n",
              "    }\n",
              "\n",
              "    .colab-df-convert:hover {\n",
              "      background-color: #E2EBFA;\n",
              "      box-shadow: 0px 1px 2px rgba(60, 64, 67, 0.3), 0px 1px 3px 1px rgba(60, 64, 67, 0.15);\n",
              "      fill: #174EA6;\n",
              "    }\n",
              "\n",
              "    .colab-df-buttons div {\n",
              "      margin-bottom: 4px;\n",
              "    }\n",
              "\n",
              "    [theme=dark] .colab-df-convert {\n",
              "      background-color: #3B4455;\n",
              "      fill: #D2E3FC;\n",
              "    }\n",
              "\n",
              "    [theme=dark] .colab-df-convert:hover {\n",
              "      background-color: #434B5C;\n",
              "      box-shadow: 0px 1px 3px 1px rgba(0, 0, 0, 0.15);\n",
              "      filter: drop-shadow(0px 1px 2px rgba(0, 0, 0, 0.3));\n",
              "      fill: #FFFFFF;\n",
              "    }\n",
              "  </style>\n",
              "\n",
              "    <script>\n",
              "      const buttonEl =\n",
              "        document.querySelector('#df-c72942bd-b466-4d25-82b8-604a4be7580b button.colab-df-convert');\n",
              "      buttonEl.style.display =\n",
              "        google.colab.kernel.accessAllowed ? 'block' : 'none';\n",
              "\n",
              "      async function convertToInteractive(key) {\n",
              "        const element = document.querySelector('#df-c72942bd-b466-4d25-82b8-604a4be7580b');\n",
              "        const dataTable =\n",
              "          await google.colab.kernel.invokeFunction('convertToInteractive',\n",
              "                                                    [key], {});\n",
              "        if (!dataTable) return;\n",
              "\n",
              "        const docLinkHtml = 'Like what you see? Visit the ' +\n",
              "          '<a target=\"_blank\" href=https://colab.research.google.com/notebooks/data_table.ipynb>data table notebook</a>'\n",
              "          + ' to learn more about interactive tables.';\n",
              "        element.innerHTML = '';\n",
              "        dataTable['output_type'] = 'display_data';\n",
              "        await google.colab.output.renderOutput(dataTable, element);\n",
              "        const docLink = document.createElement('div');\n",
              "        docLink.innerHTML = docLinkHtml;\n",
              "        element.appendChild(docLink);\n",
              "      }\n",
              "    </script>\n",
              "  </div>\n",
              "\n",
              "\n",
              "<div id=\"df-b35ea2cf-e3ed-4295-b077-44471bc627cf\">\n",
              "  <button class=\"colab-df-quickchart\" onclick=\"quickchart('df-b35ea2cf-e3ed-4295-b077-44471bc627cf')\"\n",
              "            title=\"Suggest charts\"\n",
              "            style=\"display:none;\">\n",
              "\n",
              "<svg xmlns=\"http://www.w3.org/2000/svg\" height=\"24px\"viewBox=\"0 0 24 24\"\n",
              "     width=\"24px\">\n",
              "    <g>\n",
              "        <path d=\"M19 3H5c-1.1 0-2 .9-2 2v14c0 1.1.9 2 2 2h14c1.1 0 2-.9 2-2V5c0-1.1-.9-2-2-2zM9 17H7v-7h2v7zm4 0h-2V7h2v10zm4 0h-2v-4h2v4z\"/>\n",
              "    </g>\n",
              "</svg>\n",
              "  </button>\n",
              "\n",
              "<style>\n",
              "  .colab-df-quickchart {\n",
              "      --bg-color: #E8F0FE;\n",
              "      --fill-color: #1967D2;\n",
              "      --hover-bg-color: #E2EBFA;\n",
              "      --hover-fill-color: #174EA6;\n",
              "      --disabled-fill-color: #AAA;\n",
              "      --disabled-bg-color: #DDD;\n",
              "  }\n",
              "\n",
              "  [theme=dark] .colab-df-quickchart {\n",
              "      --bg-color: #3B4455;\n",
              "      --fill-color: #D2E3FC;\n",
              "      --hover-bg-color: #434B5C;\n",
              "      --hover-fill-color: #FFFFFF;\n",
              "      --disabled-bg-color: #3B4455;\n",
              "      --disabled-fill-color: #666;\n",
              "  }\n",
              "\n",
              "  .colab-df-quickchart {\n",
              "    background-color: var(--bg-color);\n",
              "    border: none;\n",
              "    border-radius: 50%;\n",
              "    cursor: pointer;\n",
              "    display: none;\n",
              "    fill: var(--fill-color);\n",
              "    height: 32px;\n",
              "    padding: 0;\n",
              "    width: 32px;\n",
              "  }\n",
              "\n",
              "  .colab-df-quickchart:hover {\n",
              "    background-color: var(--hover-bg-color);\n",
              "    box-shadow: 0 1px 2px rgba(60, 64, 67, 0.3), 0 1px 3px 1px rgba(60, 64, 67, 0.15);\n",
              "    fill: var(--button-hover-fill-color);\n",
              "  }\n",
              "\n",
              "  .colab-df-quickchart-complete:disabled,\n",
              "  .colab-df-quickchart-complete:disabled:hover {\n",
              "    background-color: var(--disabled-bg-color);\n",
              "    fill: var(--disabled-fill-color);\n",
              "    box-shadow: none;\n",
              "  }\n",
              "\n",
              "  .colab-df-spinner {\n",
              "    border: 2px solid var(--fill-color);\n",
              "    border-color: transparent;\n",
              "    border-bottom-color: var(--fill-color);\n",
              "    animation:\n",
              "      spin 1s steps(1) infinite;\n",
              "  }\n",
              "\n",
              "  @keyframes spin {\n",
              "    0% {\n",
              "      border-color: transparent;\n",
              "      border-bottom-color: var(--fill-color);\n",
              "      border-left-color: var(--fill-color);\n",
              "    }\n",
              "    20% {\n",
              "      border-color: transparent;\n",
              "      border-left-color: var(--fill-color);\n",
              "      border-top-color: var(--fill-color);\n",
              "    }\n",
              "    30% {\n",
              "      border-color: transparent;\n",
              "      border-left-color: var(--fill-color);\n",
              "      border-top-color: var(--fill-color);\n",
              "      border-right-color: var(--fill-color);\n",
              "    }\n",
              "    40% {\n",
              "      border-color: transparent;\n",
              "      border-right-color: var(--fill-color);\n",
              "      border-top-color: var(--fill-color);\n",
              "    }\n",
              "    60% {\n",
              "      border-color: transparent;\n",
              "      border-right-color: var(--fill-color);\n",
              "    }\n",
              "    80% {\n",
              "      border-color: transparent;\n",
              "      border-right-color: var(--fill-color);\n",
              "      border-bottom-color: var(--fill-color);\n",
              "    }\n",
              "    90% {\n",
              "      border-color: transparent;\n",
              "      border-bottom-color: var(--fill-color);\n",
              "    }\n",
              "  }\n",
              "</style>\n",
              "\n",
              "  <script>\n",
              "    async function quickchart(key) {\n",
              "      const quickchartButtonEl =\n",
              "        document.querySelector('#' + key + ' button');\n",
              "      quickchartButtonEl.disabled = true;  // To prevent multiple clicks.\n",
              "      quickchartButtonEl.classList.add('colab-df-spinner');\n",
              "      try {\n",
              "        const charts = await google.colab.kernel.invokeFunction(\n",
              "            'suggestCharts', [key], {});\n",
              "      } catch (error) {\n",
              "        console.error('Error during call to suggestCharts:', error);\n",
              "      }\n",
              "      quickchartButtonEl.classList.remove('colab-df-spinner');\n",
              "      quickchartButtonEl.classList.add('colab-df-quickchart-complete');\n",
              "    }\n",
              "    (() => {\n",
              "      let quickchartButtonEl =\n",
              "        document.querySelector('#df-b35ea2cf-e3ed-4295-b077-44471bc627cf button');\n",
              "      quickchartButtonEl.style.display =\n",
              "        google.colab.kernel.accessAllowed ? 'block' : 'none';\n",
              "    })();\n",
              "  </script>\n",
              "</div>\n",
              "\n",
              "    </div>\n",
              "  </div>\n"
            ],
            "application/vnd.google.colaboratory.intrinsic+json": {
              "type": "dataframe",
              "variable_name": "data",
              "summary": "{\n  \"name\": \"data\",\n  \"rows\": 93,\n  \"fields\": [\n    {\n      \"column\": \"I/E\",\n      \"properties\": {\n        \"dtype\": \"category\",\n        \"num_unique_values\": 2,\n        \"samples\": [\n          \"E\",\n          \"I\"\n        ],\n        \"semantic_type\": \"\",\n        \"description\": \"\"\n      }\n    },\n    {\n      \"column\": \"N/S\",\n      \"properties\": {\n        \"dtype\": \"category\",\n        \"num_unique_values\": 2,\n        \"samples\": [\n          \"N\",\n          \"S\"\n        ],\n        \"semantic_type\": \"\",\n        \"description\": \"\"\n      }\n    },\n    {\n      \"column\": \"T/F\",\n      \"properties\": {\n        \"dtype\": \"category\",\n        \"num_unique_values\": 2,\n        \"samples\": [\n          \"F\",\n          \"T\"\n        ],\n        \"semantic_type\": \"\",\n        \"description\": \"\"\n      }\n    },\n    {\n      \"column\": \"J/P\",\n      \"properties\": {\n        \"dtype\": \"category\",\n        \"num_unique_values\": 2,\n        \"samples\": [\n          \"P\",\n          \"J\"\n        ],\n        \"semantic_type\": \"\",\n        \"description\": \"\"\n      }\n    },\n    {\n      \"column\": \"Essay\",\n      \"properties\": {\n        \"dtype\": \"string\",\n        \"num_unique_values\": 93,\n        \"samples\": [\n          \"academy challenging experience expected prior coding knowledge help minimal help greatest challenge statistic slowing getting point dont actually try understand concept thoroughly rather get basic theory focus application overall insightful journey learning interact different personality group dynamic really excited leaning nlp regression incorporate app development monetize genuinely regret applying academy although day doubt hurdle remembering greatness opportunity always great motivator\",\n          \"good day really dont know start essay besides good day anyway thats way let start business moment academy mostly let start day one meeting student south africa great meeting people different personality coming different background people different race culture tribe enjoy stuck cape town since day born getting first team part crazy fun team guy didnt look one another open strength first week everyone working well getting close end became frustrated team member started lose focus assume got tired sprint long following team great came work bonding wasnt two member liked working home productive two quit time came decision making meter bouncing idea around choosing one move stayed one team second team split two team two team thing thats believe new way thing great submitting individual team one learnt skill taught sprint thanks\"\n        ],\n        \"semantic_type\": \"\",\n        \"description\": \"\"\n      }\n    }\n  ]\n}"
            }
          },
          "metadata": {},
          "execution_count": 5
        }
      ]
    },
    {
      "cell_type": "markdown",
      "source": [
        "### Exploratory Data Analysis (EDA)\n",
        "\n",
        "We'll visualize the distribution of personality traits and essay lengths."
      ],
      "metadata": {
        "id": "Hoi1JbRG9L7Z"
      }
    },
    {
      "cell_type": "code",
      "source": [
        "import matplotlib.pyplot as plt\n",
        "import seaborn as sns\n",
        "\n",
        "# Plot distribution of personality traits\n",
        "fig, axs = plt.subplots(2, 2, figsize=(12, 10))\n",
        "\n",
        "sns.countplot(x='I/E', data=data, ax=axs[0, 0])\n",
        "axs[0, 0].set_title('Distribution of I/E')\n",
        "\n",
        "sns.countplot(x='N/S', data=data, ax=axs[0, 1])\n",
        "axs[0, 1].set_title('Distribution of N/S')\n",
        "\n",
        "sns.countplot(x='T/F', data=data, ax=axs[1, 0])\n",
        "axs[1, 0].set_title('Distribution of T/F')\n",
        "\n",
        "sns.countplot(x='J/P', data=data, ax=axs[1, 1])\n",
        "axs[1, 1].set_title('Distribution of J/P')\n",
        "\n",
        "plt.tight_layout()\n",
        "plt.show()\n",
        "\n",
        "# Plot distribution of essay lengths\n",
        "data['Essay Length'] = data['Essay'].apply(lambda x: len(x.split()))\n",
        "plt.figure(figsize=(10, 6))\n",
        "sns.histplot(data['Essay Length'], bins=20)\n",
        "plt.title('Distribution of Essay Lengths')\n",
        "plt.xlabel('Essay Length')\n",
        "plt.ylabel('Frequency')\n",
        "plt.show()"
      ],
      "metadata": {
        "colab": {
          "base_uri": "https://localhost:8080/",
          "height": 1000
        },
        "id": "GXCqfZh89QBI",
        "outputId": "98a0daef-807e-4340-fd1c-a26b3191166a"
      },
      "execution_count": 6,
      "outputs": [
        {
          "output_type": "display_data",
          "data": {
            "text/plain": [
              "<Figure size 1200x1000 with 4 Axes>"
            ],
            "image/png": "[encoded data removed]"
          },
          "metadata": {}
        },
        {
          "output_type": "display_data",
          "data": {
            "text/plain": [
              "<Figure size 1000x600 with 1 Axes>"
            ],
            "image/png": "[encoded data removed]"
          },
          "metadata": {}
        }
      ]
    },
    {
      "cell_type": "markdown",
      "source": [
        "### Feature Engineering\n",
        "\n",
        "We'll use TF-IDF to convert essays into numerical features."
      ],
      "metadata": {
        "id": "l5qJNraM9aN8"
      }
    },
    {
      "cell_type": "code",
      "source": [
        "from sklearn.feature_extraction.text import TfidfVectorizer\n",
        "from sklearn.linear_model import LogisticRegression\n",
        "from sklearn.model_selection import train_test_split, cross_val_score\n",
        "from imblearn.over_sampling import SMOTE\n",
        "from sklearn.metrics import classification_report\n",
        "import numpy as np\n",
        "\n",
        "# Initialize TF-IDF vectorizer\n",
        "tfidf = TfidfVectorizer(max_features=1000)\n",
        "\n",
        "# Transform essays into TF-IDF features\n",
        "X = tfidf.fit_transform(data['Essay'])\n",
        "\n",
        "# Convert labels to numerical values\n",
        "y_IE = data['I/E'].map({'I': 0, 'E': 1})\n",
        "y_NS = data['N/S'].map({'N': 0, 'S': 1})\n",
        "y_TF = data['T/F'].map({'T': 0, 'F': 1})\n",
        "y_JP = data['J/P'].map({'J': 0, 'P': 1})"
      ],
      "metadata": {
        "id": "aXZHLCjB9eTq"
      },
      "execution_count": 11,
      "outputs": []
    },
    {
      "cell_type": "markdown",
      "source": [
        "### Model Building\n",
        "\n",
        "We'll train Logistic Regression models to predict each personality trait."
      ],
      "metadata": {
        "id": "6AaUxz8F9mVp"
      }
    },
    {
      "cell_type": "code",
      "source": [
        "# Split data into training and testing sets\n",
        "X_train, X_test, y_IE_train, y_IE_test = train_test_split(X, y_IE, test_size=0.2, random_state=42)\n",
        "X_train, X_test, y_NS_train, y_NS_test = train_test_split(X, y_NS, test_size=0.2, random_state=42)\n",
        "X_train, X_test, y_TF_train, y_TF_test = train_test_split(X, y_TF, test_size=0.2, random_state=42)\n",
        "X_train, X_test, y_JP_train, y_JP_test = train_test_split(X, y_JP, test_size=0.2, random_state=42)\n",
        "\n",
        "# Apply SMOTE for oversampling the minority class\n",
        "smote = SMOTE(random_state=42)\n",
        "X_train_IE_res, y_train_IE_res = smote.fit_resample(X_train, y_IE_train)\n",
        "X_train_NS_res, y_train_NS_res = smote.fit_resample(X_train, y_NS_train)\n",
        "X_train_TF_res, y_train_TF_res = smote.fit_resample(X_train, y_TF_train)\n",
        "X_train_JP_res, y_train_JP_res = smote.fit_resample(X_train, y_JP_train)\n",
        "\n",
        "# Train Logistic Regression models with cross-validation\n",
        "def train_and_evaluate_model(X_train_res, y_train_res, X_test, y_test):\n",
        "    model = LogisticRegression(max_iter=1000)\n",
        "    model.fit(X_train_res, y_train_res)\n",
        "    scores = cross_val_score(model, X_train_res, y_train_res, cv=5, scoring='accuracy')\n",
        "    print(f'Cross-Validation Accuracy: {np.mean(scores):.2f}')\n",
        "    y_pred = model.predict(X_test)\n",
        "    print(classification_report(y_test, y_pred, zero_division=0))\n",
        "    return model\n",
        "\n",
        "print(\"Results for I/E:\")\n",
        "model_IE = train_and_evaluate_model(X_train_IE_res, y_train_IE_res, X_test, y_IE_test)\n",
        "\n",
        "print(\"Results for N/S:\")\n",
        "model_NS = train_and_evaluate_model(X_train_NS_res, y_train_NS_res, X_test, y_NS_test)\n",
        "\n",
        "print(\"Results for T/F:\")\n",
        "model_TF = train_and_evaluate_model(X_train_TF_res, y_train_TF_res, X_test, y_TF_test)\n",
        "\n",
        "print(\"Results for J/P:\")\n",
        "model_JP = train_and_evaluate_model(X_train_JP_res, y_train_JP_res, X_test, y_JP_test)\n"
      ],
      "metadata": {
        "colab": {
          "base_uri": "https://localhost:8080/"
        },
        "id": "mqiMwCpc9p5u",
        "outputId": "e2702394-6d59-4dd3-d82e-20c8c83eb9cb"
      },
      "execution_count": 12,
      "outputs": [
        {
          "output_type": "stream",
          "name": "stdout",
          "text": [
            "Results for I/E:\n",
            "Cross-Validation Accuracy: 0.89\n",
            "              precision    recall  f1-score   support\n",
            "\n",
            "           0       0.67      0.92      0.77        13\n",
            "           1       0.00      0.00      0.00         6\n",
            "\n",
            "    accuracy                           0.63        19\n",
            "   macro avg       0.33      0.46      0.39        19\n",
            "weighted avg       0.46      0.63      0.53        19\n",
            "\n",
            "Results for N/S:\n",
            "Cross-Validation Accuracy: 0.91\n",
            "              precision    recall  f1-score   support\n",
            "\n",
            "           0       0.76      0.93      0.84        14\n",
            "           1       0.50      0.20      0.29         5\n",
            "\n",
            "    accuracy                           0.74        19\n",
            "   macro avg       0.63      0.56      0.56        19\n",
            "weighted avg       0.70      0.74      0.69        19\n",
            "\n",
            "Results for T/F:\n",
            "Cross-Validation Accuracy: 0.54\n",
            "              precision    recall  f1-score   support\n",
            "\n",
            "           0       0.73      0.53      0.62        15\n",
            "           1       0.12      0.25      0.17         4\n",
            "\n",
            "    accuracy                           0.47        19\n",
            "   macro avg       0.43      0.39      0.39        19\n",
            "weighted avg       0.60      0.47      0.52        19\n",
            "\n",
            "Results for J/P:\n",
            "Cross-Validation Accuracy: 0.81\n",
            "              precision    recall  f1-score   support\n",
            "\n",
            "           0       0.75      0.82      0.78        11\n",
            "           1       0.71      0.62      0.67         8\n",
            "\n",
            "    accuracy                           0.74        19\n",
            "   macro avg       0.73      0.72      0.72        19\n",
            "weighted avg       0.73      0.74      0.73        19\n",
            "\n"
          ]
        }
      ]
    },
    {
      "cell_type": "markdown",
      "source": [
        "#### Summary\n",
        "\n",
        "I/E Model: Despite high cross-validation accuracy, the model still fails to predict class 1 (E) effectively. More work is needed, possibly by further adjusting the class weights or exploring different algorithms.\n",
        "\n",
        "N/S Model: Shows some improvement for class 1 (S), but recall is still low. Additional strategies like ensemble methods could help.\n",
        "\n",
        "T/F Model: Slight improvements, but overall performance for class 1 (F) remains poor. Trying different algorithms or more advanced preprocessing might be beneficial.\n",
        "\n",
        "J/P Model: Significant improvement with a more balanced performance. The model is performing well for both classes."
      ],
      "metadata": {
        "id": "mnVJLADHCg_w"
      }
    },
    {
      "cell_type": "markdown",
      "source": [
        "### Model Re-Evaluation\n",
        "\n"
      ],
      "metadata": {
        "id": "TYk4hNgs9ulU"
      }
    },
    {
      "cell_type": "code",
      "source": [
        "from sklearn.ensemble import RandomForestClassifier, GradientBoostingClassifier, VotingClassifier\n",
        "from sklearn.model_selection import GridSearchCV\n",
        "\n",
        "# Assuming data is a pandas DataFrame with 'Essay' and personality type columns\n",
        "# Initialize TF-IDF vectorizer\n",
        "tfidf = TfidfVectorizer(max_features=1000)\n",
        "\n",
        "# Transform essays into TF-IDF features\n",
        "X = tfidf.fit_transform(data['Essay'])\n",
        "\n",
        "# Convert labels to numerical values\n",
        "y_IE = data['I/E'].map({'I': 0, 'E': 1})\n",
        "y_NS = data['N/S'].map({'N': 0, 'S': 1})\n",
        "y_TF = data['T/F'].map({'T': 0, 'F': 1})\n",
        "y_JP = data['J/P'].map({'J': 0, 'P': 1})\n",
        "\n",
        "# Split data into training and testing sets\n",
        "def train_test_split_balanced(X, y, test_size=0.2, random_state=42):\n",
        "    X_train, X_test, y_train, y_test = train_test_split(X, y, test_size=test_size, random_state=random_state)\n",
        "    smote = SMOTE(random_state=random_state)\n",
        "    X_train_res, y_train_res = smote.fit_resample(X_train, y_train)\n",
        "    return X_train_res, X_test, y_train_res, y_test\n",
        "\n",
        "X_train_IE, X_test_IE, y_train_IE, y_test_IE = train_test_split_balanced(X, y_IE)\n",
        "X_train_NS, X_test_NS, y_train_NS, y_test_NS = train_test_split_balanced(X, y_NS)\n",
        "X_train_TF, X_test_TF, y_train_TF, y_test_TF = train_test_split_balanced(X, y_TF)\n",
        "X_train_JP, X_test_JP, y_train_JP, y_test_JP = train_test_split_balanced(X, y_JP)\n",
        "\n",
        "# Function to train and evaluate model\n",
        "def train_and_evaluate_model(X_train, y_train, X_test, y_test):\n",
        "    # Class Weight Adjustment\n",
        "    lr = LogisticRegression(class_weight='balanced', max_iter=1000)\n",
        "    rf = RandomForestClassifier(class_weight='balanced', random_state=42)\n",
        "    gb = GradientBoostingClassifier(random_state=42)\n",
        "\n",
        "    # Ensemble Methods\n",
        "    ensemble = VotingClassifier(estimators=[\n",
        "        ('lr', lr),\n",
        "        ('rf', rf),\n",
        "        ('gb', gb)\n",
        "    ], voting='soft')\n",
        "\n",
        "    # Hyperparameter Tuning\n",
        "    param_grid = {\n",
        "        'lr__C': [0.1, 1, 10],\n",
        "        'rf__n_estimators': [100, 200],\n",
        "        'gb__n_estimators': [100, 200]\n",
        "    }\n",
        "    grid_search = GridSearchCV(estimator=ensemble, param_grid=param_grid, cv=5, scoring='accuracy', n_jobs=-1)\n",
        "    grid_search.fit(X_train, y_train)\n",
        "\n",
        "    # Best model\n",
        "    best_model = grid_search.best_estimator_\n",
        "    scores = cross_val_score(best_model, X_train, y_train, cv=5, scoring='accuracy')\n",
        "    print(f'Cross-Validation Accuracy: {np.mean(scores):.2f}')\n",
        "\n",
        "    y_pred = best_model.predict(X_test)\n",
        "    print(classification_report(y_test, y_pred, zero_division=0))\n",
        "    return best_model\n",
        "\n",
        "print(\"Results for I/E:\")\n",
        "model_IE = train_and_evaluate_model(X_train_IE, y_train_IE, X_test_IE, y_test_IE)\n",
        "\n",
        "print(\"Results for N/S:\")\n",
        "model_NS = train_and_evaluate_model(X_train_NS, y_train_NS, X_test_NS, y_test_NS)\n",
        "\n",
        "print(\"Results for T/F:\")\n",
        "model_TF = train_and_evaluate_model(X_train_TF, y_train_TF, X_test_TF, y_test_TF)\n",
        "\n",
        "print(\"Results for J/P:\")\n",
        "model_JP = train_and_evaluate_model(X_train_JP, y_train_JP, X_test_JP, y_test_JP)\n"
      ],
      "metadata": {
        "colab": {
          "base_uri": "https://localhost:8080/"
        },
        "id": "Tq2qs5IH90yQ",
        "outputId": "ae3abda6-d9e8-4eaa-fe62-4dc7ae8dbbe0"
      },
      "execution_count": 13,
      "outputs": [
        {
          "output_type": "stream",
          "name": "stdout",
          "text": [
            "Results for I/E:\n",
            "Cross-Validation Accuracy: 0.86\n",
            "              precision    recall  f1-score   support\n",
            "\n",
            "           0       0.67      0.92      0.77        13\n",
            "           1       0.00      0.00      0.00         6\n",
            "\n",
            "    accuracy                           0.63        19\n",
            "   macro avg       0.33      0.46      0.39        19\n",
            "weighted avg       0.46      0.63      0.53        19\n",
            "\n",
            "Results for N/S:\n",
            "Cross-Validation Accuracy: 0.85\n",
            "              precision    recall  f1-score   support\n",
            "\n",
            "           0       0.72      0.93      0.81        14\n",
            "           1       0.00      0.00      0.00         5\n",
            "\n",
            "    accuracy                           0.68        19\n",
            "   macro avg       0.36      0.46      0.41        19\n",
            "weighted avg       0.53      0.68      0.60        19\n",
            "\n",
            "Results for T/F:\n",
            "Cross-Validation Accuracy: 0.54\n",
            "              precision    recall  f1-score   support\n",
            "\n",
            "           0       0.70      0.47      0.56        15\n",
            "           1       0.11      0.25      0.15         4\n",
            "\n",
            "    accuracy                           0.42        19\n",
            "   macro avg       0.41      0.36      0.36        19\n",
            "weighted avg       0.58      0.42      0.47        19\n",
            "\n",
            "Results for J/P:\n",
            "Cross-Validation Accuracy: 0.73\n",
            "              precision    recall  f1-score   support\n",
            "\n",
            "           0       0.69      0.82      0.75        11\n",
            "           1       0.67      0.50      0.57         8\n",
            "\n",
            "    accuracy                           0.68        19\n",
            "   macro avg       0.68      0.66      0.66        19\n",
            "weighted avg       0.68      0.68      0.67        19\n",
            "\n"
          ]
        }
      ]
    },
    {
      "cell_type": "markdown",
      "source": [
        "#### Recommendations for Further Improvement\n",
        "\n",
        "Further Hyperparameter Tuning: Explore a wider range of hyperparameters.\n",
        "\n",
        "Advanced Oversampling/Undersampling Techniques: Try techniques like ADASYN or Tomek Links.\n",
        "\n",
        "Ensemble Methods: Experiment with different ensemble methods like Bagging or Boosting.\n",
        "\n",
        "Algorithm Exploration: Consider trying different algorithms like SVM or XGBoost.\n",
        "\n",
        "Feature Selection/Engineering: Introduce additional features or use dimensionality reduction techniques."
      ],
      "metadata": {
        "id": "D8jWuIaNDR3M"
      }
    }
  ]
}